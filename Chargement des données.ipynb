{
 "cells": [
  {
   "cell_type": "code",
   "execution_count": 19,
   "metadata": {},
   "outputs": [],
   "source": [
    "import scipy.io\n",
    "import pandas as pd\n",
    "import numpy as np\n",
    "import re\n",
    "import os"
   ]
  },
  {
   "cell_type": "code",
   "execution_count": 21,
   "metadata": {},
   "outputs": [],
   "source": [
    "# nom des points de connexion\n",
    "names = np.array(['Fp1','Fp2','F7','F3','Fz','F4','F8','FT7','FC3','FC7','FC4','FT8',\n",
    "        'T3','C3','CZ','C4','T4','TP7','CP3','CPz','CP4','TP8','T5','P3','Pz',\n",
    "        'P4','T6','O1','Oz','O2'])\n"
   ]
  },
  {
   "cell_type": "code",
   "execution_count": 40,
   "metadata": {},
   "outputs": [],
   "source": [
    "combinations = list()\n",
    "for i,var1 in enumerate(names):\n",
    "    for var2 in names[i+1:]:\n",
    "        combinations.append(var1+' '+var2)\n",
    "#les combinaison c'est le croisement sur la matrice entre les connexion"
   ]
  },
  {
   "cell_type": "code",
   "execution_count": 41,
   "metadata": {},
   "outputs": [
    {
     "data": {
      "text/plain": [
       "435"
      ]
     },
     "execution_count": 41,
     "metadata": {},
     "output_type": "execute_result"
    }
   ],
   "source": [
    "len(combinations)"
   ]
  },
  {
   "cell_type": "code",
   "execution_count": 42,
   "metadata": {},
   "outputs": [],
   "source": [
    "classes = ['AD','SCI','MCI']"
   ]
  },
  {
   "cell_type": "code",
   "execution_count": 43,
   "metadata": {},
   "outputs": [],
   "source": [
    "for c in classes:\n",
    "    for i,freq in enumerate(os.listdir('data')):\n",
    "        tmp_dict = dict()\n",
    "        for file in os.listdir('data/'+freq+'/'+c):\n",
    "            #get the matrix\n",
    "            mat = scipy.io.loadmat('data/'+freq+'/'+c+'/'+file)[freq]\n",
    "            #get the upper diagonal only\n",
    "            mat = mat[np.triu_indices(30, k = 1)]\n",
    "            tmp_dict[int(re.findall(r'\\d+', file)[0])]=mat\n",
    "        df_tmp = pd.DataFrame(tmp_dict).T\n",
    "        df_tmp.columns = [freq+' '+comb for comb in combinations]\n",
    "        if (i==0):\n",
    "            df_total = df_tmp\n",
    "        else:\n",
    "            df_total = pd.concat((df_total,df_tmp),axis=1)\n",
    "    df_total.to_csv(c+'.csv',index=False)"
   ]
  },
  {
   "cell_type": "code",
   "execution_count": 44,
   "metadata": {},
   "outputs": [
    {
     "ename": "NameError",
     "evalue": "name 'df' is not defined",
     "output_type": "error",
     "traceback": [
      "\u001b[0;31m---------------------------------------------------------------------------\u001b[0m",
      "\u001b[0;31mNameError\u001b[0m                                 Traceback (most recent call last)",
      "\u001b[0;32m<ipython-input-44-00cf07b74dcd>\u001b[0m in \u001b[0;36m<module>\u001b[0;34m\u001b[0m\n\u001b[0;32m----> 1\u001b[0;31m \u001b[0mdf\u001b[0m\u001b[0;34m\u001b[0m\u001b[0;34m\u001b[0m\u001b[0m\n\u001b[0m",
      "\u001b[0;31mNameError\u001b[0m: name 'df' is not defined"
     ]
    }
   ],
   "source": []
  },
  {
   "cell_type": "code",
   "execution_count": null,
   "metadata": {},
   "outputs": [],
   "source": []
  },
  {
   "cell_type": "code",
   "execution_count": null,
   "metadata": {},
   "outputs": [],
   "source": []
  },
  {
   "cell_type": "code",
   "execution_count": null,
   "metadata": {},
   "outputs": [],
   "source": []
  }
 ],
 "metadata": {
  "kernelspec": {
   "display_name": "Python (myenv)",
   "language": "python",
   "name": "ds"
  },
  "language_info": {
   "codemirror_mode": {
    "name": "ipython",
    "version": 3
   },
   "file_extension": ".py",
   "mimetype": "text/x-python",
   "name": "python",
   "nbconvert_exporter": "python",
   "pygments_lexer": "ipython3",
   "version": "3.6.12"
  }
 },
 "nbformat": 4,
 "nbformat_minor": 4
}
